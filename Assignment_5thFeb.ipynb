{
 "cells": [
  {
   "attachments": {},
   "cell_type": "markdown",
   "metadata": {},
   "source": [
    "1.\n",
    "The class is a user defined data structure that binds the data members and methods into a single unit. A class is a blueprint or code templete for object creation.\n",
    "\n",
    "An object is an instance of a class. it is a collection of attributes and methods. We use the object of class to perform actions."
   ]
  },
  {
   "cell_type": "code",
   "execution_count": null,
   "metadata": {},
   "outputs": [],
   "source": [
    "#Example:\n",
    "#Suppose car is a class then we can creat objects like car1, car2, car3, etc from class.\n",
    "#create class\n",
    "\n",
    "class Car:\n",
    "    name= \"\"\n",
    "    gear= 0\n",
    "\n",
    "#Create objects of class\n",
    "car1 = Car()"
   ]
  },
  {
   "attachments": {},
   "cell_type": "markdown",
   "metadata": {},
   "source": [
    "2.\n",
    "Four pillar of oops:(1) Abstraction, (2) Encapsulation, (3) Inheritance, (4) Polymorphism."
   ]
  },
  {
   "attachments": {},
   "cell_type": "markdown",
   "metadata": {},
   "source": [
    "3.\n",
    "__init__() method:\n",
    " It is called a constructor in object oriented terminology. This method is called when an object id created from a class and it allows the class to initialize the attributes of the class."
   ]
  },
  {
   "cell_type": "code",
   "execution_count": null,
   "metadata": {},
   "outputs": [],
   "source": [
    "#A class with init method\n",
    "class person:\n",
    "    def __init__(self, name):\n",
    "        self.name = name\n",
    "    \n",
    "    def say_hi(self):\n",
    "        return self.name\n",
    "\n",
    "p1=person(\"Shubham\")\n",
    "p1.say_hi()"
   ]
  },
  {
   "attachments": {},
   "cell_type": "markdown",
   "metadata": {},
   "source": [
    "4.\n",
    "The self is variable is used to represent the instance of the class which is iften used in object oriented programming. It works as a reference to the object. Python uses the self parameter to refer to instance attributes and methods of the class."
   ]
  },
  {
   "attachments": {},
   "cell_type": "markdown",
   "metadata": {},
   "source": [
    "5.\n",
    "Inheritance is a mechanism in which one class acquires the property of another class.\n",
    "There are five types of inheritance: Single, Multiple, Multilevel, Hieraechical, Hybrid Inheritance."
   ]
  },
  {
   "cell_type": "code",
   "execution_count": null,
   "metadata": {},
   "outputs": [],
   "source": [
    "#Examples:\n",
    "\n",
    "#Single Inheritance\n",
    "class class1():\n",
    "    def test_class1(self):\n",
    "        return \"This is class1\"\n",
    "\n",
    "class class2(class1):\n",
    "    pass\n",
    "\n",
    "class_obj= class2()\n",
    "\n",
    "class_obj.test_class1()"
   ]
  },
  {
   "cell_type": "code",
   "execution_count": null,
   "metadata": {},
   "outputs": [],
   "source": [
    "#Multilevel Inheritance\n",
    "class class1():\n",
    "    def test_class1(self):\n",
    "        return \"This is class1\"\n",
    "\n",
    "class class2(class1):\n",
    "    def test_class2(self):\n",
    "        return \"This is class2\"\n",
    "\n",
    "class class3(class2):\n",
    "    pass\n",
    "\n",
    "obj_class3= class3()\n",
    "\n",
    "obj_class3.test_class1()"
   ]
  },
  {
   "cell_type": "code",
   "execution_count": null,
   "metadata": {},
   "outputs": [],
   "source": [
    "#Multiple Inheritance\n",
    "class class1:\n",
    "    def test_class1(self):\n",
    "        return \"This is class1\"\n",
    "\n",
    "class class2:\n",
    "    def test_class2(self):\n",
    "        return \"This is class2\"\n",
    "\n",
    "class class3(class1, class2):\n",
    "    pass\n",
    "\n",
    "obj_class3= class3()\n",
    "\n",
    "obj_class3.test_class2()"
   ]
  },
  {
   "cell_type": "code",
   "execution_count": null,
   "metadata": {},
   "outputs": [],
   "source": [
    "#Hoeraechical Inheritance\n",
    "class class1:\n",
    "    def test_class1(self):\n",
    "        return \"This is class1\"\n",
    "\n",
    "class class2(class1):\n",
    "    def test_class2(self):\n",
    "        return \"This is class2\"\n",
    "\n",
    "class class3(class1):\n",
    "    def test_class3(self):\n",
    "        return \"This is class3\"\n",
    "\n",
    "obj1= class2()\n",
    "obj2= class3()\n",
    "\n",
    "obj1.test_class1()\n",
    "obj2.test_class3()"
   ]
  },
  {
   "cell_type": "code",
   "execution_count": null,
   "metadata": {},
   "outputs": [],
   "source": [
    "#Hybrid Inheritance\n",
    "class school:\n",
    "    def test1(self):\n",
    "        return \"This is School\"\n",
    "\n",
    "class student1(school):\n",
    "    def test2(self):\n",
    "        return \"This is Student1\"\n",
    "\n",
    "class student2(school):\n",
    "    def test3(self):\n",
    "        return \"This is Student2\"\n",
    "\n",
    "class student3(student1, school):\n",
    "    def test3(self):\n",
    "        return \"This is Student3\"\n",
    "\n",
    "object= student3()\n",
    "object.test1()\n",
    "object.test2()\n",
    "object.test3()"
   ]
  }
 ],
 "metadata": {
  "kernelspec": {
   "display_name": "Python 3",
   "language": "python",
   "name": "python3"
  },
  "language_info": {
   "codemirror_mode": {
    "name": "ipython",
    "version": 3
   },
   "file_extension": ".py",
   "mimetype": "text/x-python",
   "name": "python",
   "nbconvert_exporter": "python",
   "pygments_lexer": "ipython3",
   "version": "3.11.1"
  },
  "orig_nbformat": 4,
  "vscode": {
   "interpreter": {
    "hash": "6662073f3bde6be334dec329a6c9947da37b6bb749f0724ccca866176f72e3b8"
   }
  }
 },
 "nbformat": 4,
 "nbformat_minor": 2
}
